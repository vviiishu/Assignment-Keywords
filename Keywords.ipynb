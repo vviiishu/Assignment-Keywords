{
 "cells": [
  {
   "cell_type": "markdown",
   "id": "78269d61-67ef-4abe-9140-9de41656d1fe",
   "metadata": {},
   "source": [
    "### Python keywords are reserved words that have special meanings and purposes within the Python language. They cannot be used as identifiers (such as variable names, function names, etc.) because they are already reserved for specific functionality. \n",
    "\n",
    "\n"
   ]
  },
  {
   "cell_type": "markdown",
   "id": "990a729d-a437-4f0b-bf5e-68b9fdd21e70",
   "metadata": {
    "tags": []
   },
   "source": [
    "#### eg if/else,print,for,with,try,not,catch,or"
   ]
  },
  {
   "cell_type": "markdown",
   "id": "6545ff17-34e5-4236-af17-e2f2e007eb0e",
   "metadata": {},
   "source": [
    "### Idntifiers are defined in python in such a way that it must begin with (A-Z , a-z) or underscore(_)\n",
    "### eg a=2.5,_b=3"
   ]
  },
  {
   "cell_type": "markdown",
   "id": "16968702-553a-4025-a439-195b96c685f7",
   "metadata": {},
   "source": [
    "### comments are annotations within the code that are ignored by the interpreter. It increases readability of code\n",
    "eg \" # \" is use to comment some piece of code"
   ]
  },
  {
   "cell_type": "markdown",
   "id": "8296d21d-3e9f-4883-b8e6-076c5a6df722",
   "metadata": {},
   "source": [
    "### Proper indentation is crucial in Python because it serves as a structural element that defines the scope and hierarchy of code blocks. Unlike many other programming languages that use braces {} to denote blocks of code, Python relies on indentation to indicate the beginning and end of code blocks. "
   ]
  },
  {
   "cell_type": "markdown",
   "id": "851935f1-88de-4dc1-88d6-381ef79d10c6",
   "metadata": {},
   "source": [
    "### If the indentation is incorrect in Python, it can lead to syntax errors or logical errors in the code. "
   ]
  },
  {
   "cell_type": "code",
   "execution_count": null,
   "id": "1129e64e-4fef-49bd-9421-62941425dd21",
   "metadata": {},
   "outputs": [],
   "source": []
  }
 ],
 "metadata": {
  "kernelspec": {
   "display_name": "Python 3 (ipykernel)",
   "language": "python",
   "name": "python3"
  },
  "language_info": {
   "codemirror_mode": {
    "name": "ipython",
    "version": 3
   },
   "file_extension": ".py",
   "mimetype": "text/x-python",
   "name": "python",
   "nbconvert_exporter": "python",
   "pygments_lexer": "ipython3",
   "version": "3.10.8"
  }
 },
 "nbformat": 4,
 "nbformat_minor": 5
}
